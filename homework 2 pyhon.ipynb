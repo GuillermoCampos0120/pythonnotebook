{
 "cells": [
  {
   "cell_type": "code",
   "execution_count": null,
   "metadata": {},
   "outputs": [],
   "source": [
    "mylist = input ('enter a list of numbers, separeted by , :  ')\n",
    "newlist =[]\n",
    "\n",
    "for i in set (mylist):\n",
    "    newlist.append(i)\n",
    "print (newlist)"
   ]
  },
  {
   "cell_type": "code",
   "execution_count": 1,
   "metadata": {},
   "outputs": [
    {
     "name": "stdout",
     "output_type": "stream",
     "text": [
      "[4, 4, 6, 8, 9, 10, 12, 14, 15, 16, 18, 20, 22, 24, 25, 26, 27, 28, 30, 31, 32, 33, 34, 35, 36, 38, 39, 40, 42, 44, 45, 46, 48, 49, 50, 96, 100]\n",
      "enter number to check in the list:  2\n",
      "False\n"
     ]
    }
   ],
   "source": [
    "thelist = [ 4,9,96,100,31,4, 6, 8, 10, 12, 14, 15, 16, 18, 20, 22, 24, 25, 26, 27, 28, 30, 32, 33, 34, 35, 36, 38, 39, 40, 42, 44, 45, 46, 48, 49, 50,]\n",
    "thelist.sort()\n",
    "print (thelist)\n",
    "\n",
    "num = (input(\"enter number to check in the list:  \"))\n",
    "\n",
    "if num in thelist:\n",
    "    \n",
    "    print (True)\n",
    "else:\n",
    "    print (False)\n",
    "    \n"
   ]
  },
  {
   "cell_type": "code",
   "execution_count": null,
   "metadata": {},
   "outputs": [],
   "source": [
    "a = [1, 4, 9, 16, 25, 36, 49, 64, 81, 100]\n",
    "b = [ i for i in a if i % 2 == 0]\n",
    "\n",
    "print (b)"
   ]
  },
  {
   "cell_type": "code",
   "execution_count": null,
   "metadata": {},
   "outputs": [],
   "source": [
    "#guess a number\n",
    "\n",
    "import random\n",
    "guessestaken = 0\n",
    "\n",
    "number = random.randint (0,200)\n",
    "print('guess a number between 0 and 200')\n",
    "\n",
    "while guessestaken < 50:\n",
    "    print('take a guess')\n",
    "    guess = input()\n",
    "    guess = int(guess)\n",
    "    \n",
    "    guessestaken = guessestaken + 1\n",
    "    \n",
    "    if guess < number:\n",
    "        print('way upper')\n",
    "    elif guess < number + 10:\n",
    "        print('upper')\n",
    "    elif guess < number  + 5:\n",
    "        print('closer')\n",
    "    elif guess > number + 3:\n",
    "        print('close')\n",
    "    elif guess > number - 10:\n",
    "        print('lower')\n",
    "    elif guess > number - 5:\n",
    "        print('way lower')\n",
    "    elif guess == number:\n",
    "        print('THAT IS IT')\n",
    "        break\n",
    "if guess == number:\n",
    "    print(\"good job\")\n",
    "\n",
    "    \n",
    "    \n"
   ]
  },
  {
   "cell_type": "code",
   "execution_count": null,
   "metadata": {},
   "outputs": [],
   "source": [
    "print (\"We are going to guess your number in 10 tries.\")\n",
    "while answer == \"yes\":\n",
    "    NumOfTry = 10\n",
    "    NumToGuess = 50\n",
    "    LimitLow = 1\n",
    "    LimitHigh = 100\n",
    "    while NumOfTry != 0:\n",
    "        try:\n",
    "            print (\"I try: \",NumToGuess)\n",
    "            print (\"Please type: 1 for my try is too high\")\n",
    "            print (\"             2 for my try is too low\")\n",
    "            print (\"             3 I guessed your number\")\n",
    "            HumanAnswer  = int (input(\"So did I guess right?\"))\n",
    "            if 1 < HumanAnswer > 3:\n",
    "                print (\"Please enter a valid answer. 1, 2 and 3 are the valid choice\")\n",
    "                NumOfTry = NumOfTry + 1\n",
    "            if HumanAnswer == 1:\n",
    "                LimitHigh = NumToGuess\n",
    "                print (\"Hmm, so your number is between \",LimitLow, \"and \", LimitHigh)\n",
    "                NumOfTry = NumOfTry - 1\n",
    "                print (NumOfTry, \"attempts left\")\n",
    "                NumToGuess = int (((LimitHigh - LimitLow)/2) + LimitLow)\n",
    "                if NumToGuess <= LimitLow:\n",
    "                    NumToGuess = NumToGuess + 1\n",
    "                if LimitHigh - LimitLow == 2:\n",
    "                    NumToGuess = LimitLow + 1\n",
    "            elif HumanAnswer == 2:\n",
    "                LimitLow = NumToGuess\n",
    "                print (\"Hmm, so your number is between \",LimitLow, \"and \", LimitHigh)\n",
    "                NumOfTry = NumOfTry - 1\n",
    "                print (NumOfTry, \"attempts left\")\n",
    "                NumToGuess = int (((LimitHigh - LimitLow)/2) + LimitLow)\n",
    "                if NumToGuess <= LimitLow:\n",
    "                    NumToGuess = NumToGuess + 1\n",
    "                if LimitHigh - LimitLow == 2:\n",
    "                    NumToGuess = LimitLow + 1\n",
    "            elif HumanAnswer == 3:\n",
    "                print (\"Woo hoo! I won\")\n",
    "                NumOfTry = 0\n",
    "        except:\n",
    "            break\n",
    "    else:\n",
    "        answer = input ('Do you want to play again? (yes/no)')\n",
    "\n",
    "else:\n",
    "    print (\"Thank you for playing. Goodbye\")"
   ]
  },
  {
   "cell_type": "code",
   "execution_count": null,
   "metadata": {},
   "outputs": [],
   "source": []
  }
 ],
 "metadata": {
  "kernelspec": {
   "display_name": "Python 3",
   "language": "python",
   "name": "python3"
  },
  "language_info": {
   "codemirror_mode": {
    "name": "ipython",
    "version": 3
   },
   "file_extension": ".py",
   "mimetype": "text/x-python",
   "name": "python",
   "nbconvert_exporter": "python",
   "pygments_lexer": "ipython3",
   "version": "3.7.3"
  }
 },
 "nbformat": 4,
 "nbformat_minor": 2
}
